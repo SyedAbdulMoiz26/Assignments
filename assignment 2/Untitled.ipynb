{
 "cells": [
  {
   "cell_type": "markdown",
   "id": "b9c2649b-3e58-42fb-b0ef-ffdeaba67610",
   "metadata": {},
   "source": [
    "## Part -2 Python Basics (Conditional Statements)"
   ]
  },
  {
   "cell_type": "markdown",
   "id": "3e57087a-c804-462b-bda7-23a965834cfa",
   "metadata": {},
   "source": [
    "### 1. A company decided to give bonus of 5% to employee if his/her year of service is more than 5 years. Ask user for their salary and year of service and print the net bonus amount."
   ]
  },
  {
   "cell_type": "code",
   "execution_count": 1,
   "id": "1a544dc3-bb8d-479e-ac2f-51232178beb8",
   "metadata": {},
   "outputs": [
    {
     "name": "stdin",
     "output_type": "stream",
     "text": [
      "Enter your salary:  40000\n",
      "Enter your years of service:  5\n"
     ]
    },
    {
     "name": "stdout",
     "output_type": "stream",
     "text": [
      "You are not eligible for a bonus.\n"
     ]
    }
   ],
   "source": [
    "salary = float(input(\"Enter your salary: \"))\n",
    "years_of_service = int(input(\"Enter your years of service: \"))\n",
    "\n",
    "\n",
    "if years_of_service > 5:\n",
    "    bonus = salary * 0.05\n",
    "    print(\"You are eligible for a bonus of:\", bonus)\n",
    "else:\n",
    "    print(\"You are not eligible for a bonus.\")\n"
   ]
  },
  {
   "cell_type": "markdown",
   "id": "8a3e0906-5ccf-444b-aae5-24f09a9ca421",
   "metadata": {},
   "source": [
    "### 2. Write a program to check whether a person is eligible for voting or not. (accept age from user) if age is greater than 17 eligible otherwise not eligible"
   ]
  },
  {
   "cell_type": "code",
   "execution_count": 2,
   "id": "bc1b27c8-5d07-464f-808b-4136a5dd788e",
   "metadata": {},
   "outputs": [
    {
     "name": "stdin",
     "output_type": "stream",
     "text": [
      "Enter your age:  18\n"
     ]
    },
    {
     "name": "stdout",
     "output_type": "stream",
     "text": [
      "You are eligible to vote.\n"
     ]
    }
   ],
   "source": [
    "age = int(input(\"Enter your age: \"))\n",
    "\n",
    "\n",
    "if age > 17:\n",
    "    print(\"You are eligible to vote.\")\n",
    "else:\n",
    "    print(\"You are not eligible to vote.\")"
   ]
  },
  {
   "cell_type": "markdown",
   "id": "b08752fa-3d21-41fa-9d68-89066a7853ac",
   "metadata": {},
   "source": [
    "### 3. Write a program to check whether a number entered by user is even or odd.\n"
   ]
  },
  {
   "cell_type": "code",
   "execution_count": 3,
   "id": "7ec2b0b5-09f5-492c-90d7-04f4530e7fa5",
   "metadata": {},
   "outputs": [
    {
     "name": "stdin",
     "output_type": "stream",
     "text": [
      "Enter a number:  9\n"
     ]
    },
    {
     "name": "stdout",
     "output_type": "stream",
     "text": [
      "The number is odd.\n"
     ]
    }
   ],
   "source": [
    "\n",
    "num = int(input(\"Enter a number: \"))\n",
    "\n",
    "\n",
    "if num % 2 == 0:\n",
    "    print(\"The number is even.\")\n",
    "else:\n",
    "    print(\"The number is odd.\")\n"
   ]
  },
  {
   "cell_type": "markdown",
   "id": "07bda976-7cde-40b6-894c-1e2cbd570913",
   "metadata": {},
   "source": [
    "### 4. Write a program to check whether a number is divisible by 7 or not. Show Answer"
   ]
  },
  {
   "cell_type": "code",
   "execution_count": 5,
   "id": "72c29635-7567-4726-99e8-88cc85ecbefd",
   "metadata": {},
   "outputs": [
    {
     "name": "stdin",
     "output_type": "stream",
     "text": [
      "Enter a number:  7\n"
     ]
    },
    {
     "name": "stdout",
     "output_type": "stream",
     "text": [
      "The number is divisible by 7.\n"
     ]
    }
   ],
   "source": [
    "num = int(input(\"Enter a number: \"))\n",
    "\n",
    "\n",
    "if num % 7 == 0:\n",
    "    print(\"The number is divisible by 7.\")\n",
    "else:\n",
    "    print(\"The number is NOT divisible by 7.\")\n"
   ]
  },
  {
   "cell_type": "markdown",
   "id": "09c08950-e631-4449-b897-c7c6554cb930",
   "metadata": {},
   "source": [
    "### 5. Write a program to display \"Hello\" if a number entered by user is a multiple of five , otherwise print \"Bye\""
   ]
  },
  {
   "cell_type": "code",
   "execution_count": 6,
   "id": "19339fab-70f0-4516-a1fe-eb39780bb0e3",
   "metadata": {},
   "outputs": [
    {
     "name": "stdin",
     "output_type": "stream",
     "text": [
      "Enter a number:  2\n"
     ]
    },
    {
     "name": "stdout",
     "output_type": "stream",
     "text": [
      "Bye\n"
     ]
    }
   ],
   "source": [
    "\n",
    "num = int(input(\"Enter a number: \"))\n",
    "\n",
    "\n",
    "if num % 5 == 0:\n",
    "    print(\"Hello\")\n",
    "else:\n",
    "    print(\"Bye\")"
   ]
  },
  {
   "cell_type": "markdown",
   "id": "889e846f-03c9-48c8-b39a-7ae23593df92",
   "metadata": {},
   "source": [
    "### 7. Write a program to display the last digit of a number."
   ]
  },
  {
   "cell_type": "code",
   "execution_count": 10,
   "id": "e72af825-7b9b-48c2-b9bd-66b75105a4ba",
   "metadata": {},
   "outputs": [
    {
     "name": "stdin",
     "output_type": "stream",
     "text": [
      "Enter a number:  010127\n"
     ]
    },
    {
     "name": "stdout",
     "output_type": "stream",
     "text": [
      "Last digit of the number is: 7\n"
     ]
    }
   ],
   "source": [
    "\n",
    "num = int(input(\"Enter a number: \"))\n",
    "\n",
    "\n",
    "last_digit = num % 10\n",
    "\n",
    "print(\"Last digit of the number is:\", last_digit)"
   ]
  },
  {
   "cell_type": "markdown",
   "id": "d166ec66-8312-4c12-8173-f24135da4216",
   "metadata": {},
   "source": [
    "### 9. Take values of length and breadth of a rectangle from user and print if it is square or rectangle."
   ]
  },
  {
   "cell_type": "code",
   "execution_count": 11,
   "id": "33aa7901-b283-4a58-af4a-1d4d41a745d0",
   "metadata": {},
   "outputs": [
    {
     "name": "stdin",
     "output_type": "stream",
     "text": [
      "Enter the length:  5\n",
      "Enter the breadth:  5\n"
     ]
    },
    {
     "name": "stdout",
     "output_type": "stream",
     "text": [
      "It is a square.\n"
     ]
    }
   ],
   "source": [
    "\n",
    "length = float(input(\"Enter the length: \"))\n",
    "breadth = float(input(\"Enter the breadth: \"))\n",
    "\n",
    "\n",
    "if length == breadth:\n",
    "    print(\"It is a square.\")\n",
    "else:\n",
    "    print(\"It is a rectangle.\")"
   ]
  },
  {
   "cell_type": "markdown",
   "id": "b7f8eb95-4e15-43bc-825c-50fcdab4ca54",
   "metadata": {},
   "source": [
    "### 10. Take two int values from user and print greatest among them."
   ]
  },
  {
   "cell_type": "code",
   "execution_count": 12,
   "id": "0c8ad05c-aff7-4676-a8fd-80535d4c5fce",
   "metadata": {},
   "outputs": [
    {
     "name": "stdin",
     "output_type": "stream",
     "text": [
      "Enter first number:  1\n",
      "Enter second number:  3\n"
     ]
    },
    {
     "name": "stdout",
     "output_type": "stream",
     "text": [
      "The greatest number is: 3\n"
     ]
    }
   ],
   "source": [
    "num1 = int(input(\"Enter first number: \"))\n",
    "num2 = int(input(\"Enter second number: \"))\n",
    "\n",
    "\n",
    "if num1 > num2:\n",
    "    print(\"The greatest number is:\", num1)\n",
    "elif num2 > num1:\n",
    "    print(\"The greatest number is:\", num2)\n",
    "else:\n",
    "    print(\"Both numbers are equal.\")\n"
   ]
  },
  {
   "cell_type": "markdown",
   "id": "28f18ce3-4ef6-442d-86ae-15b174327a52",
   "metadata": {},
   "source": [
    "### 11. A shop will give discount of 10% if the cost of purchased quantity is more than 1000. Ask user for quantity. Suppose one unit will cost 100. Judge and print total cost for user."
   ]
  },
  {
   "cell_type": "code",
   "execution_count": 13,
   "id": "a0dda2b8-d5de-4a41-a818-a2de9052979e",
   "metadata": {},
   "outputs": [
    {
     "name": "stdin",
     "output_type": "stream",
     "text": [
      "Enter quantity:  9\n"
     ]
    },
    {
     "name": "stdout",
     "output_type": "stream",
     "text": [
      "Total cost after discount (if any): 900\n"
     ]
    }
   ],
   "source": [
    "\n",
    "quantity = int(input(\"Enter quantity: \"))\n",
    "\n",
    "\n",
    "unit_price = 100\n",
    "\n",
    "\n",
    "total_cost = quantity * unit_price\n",
    "\n",
    "\n",
    "if total_cost > 1000:\n",
    "    discount = total_cost * 0.10\n",
    "    total_cost = total_cost - discount\n",
    "\n",
    "\n",
    "print(\"Total cost after discount (if any):\", total_cost)\n"
   ]
  },
  {
   "cell_type": "markdown",
   "id": "8fd72ad1-a242-4d2a-9270-dd539b88dc69",
   "metadata": {},
   "source": [
    "### 12. A school has following rules for grading system:\n",
    "\n",
    "Below 25 – F\n",
    "\n",
    "25 to 45 – E\n",
    "\n",
    "45 to 50 – D\n",
    "\n",
    "50 to 60 – C\n",
    "\n",
    "60 to 80 – B\n",
    "\n",
    "Above 80 – A"
   ]
  },
  {
   "cell_type": "code",
   "execution_count": 14,
   "id": "0cef0ffe-dda3-4934-8005-b66261bbf05f",
   "metadata": {},
   "outputs": [
    {
     "name": "stdin",
     "output_type": "stream",
     "text": [
      "Enter your marks:  71\n"
     ]
    },
    {
     "name": "stdout",
     "output_type": "stream",
     "text": [
      "Grade: B\n"
     ]
    }
   ],
   "source": [
    "marks = int(input(\"Enter your marks: \"))\n",
    "\n",
    "\n",
    "if marks < 25:\n",
    "    print(\"Grade: F\")\n",
    "elif marks <= 45:\n",
    "    print(\"Grade: E\")\n",
    "elif marks <= 50:\n",
    "    print(\"Grade: D\")\n",
    "elif marks <= 60:\n",
    "    print(\"Grade: C\")\n",
    "elif marks <= 80:\n",
    "    print(\"Grade: B\")\n",
    "else:\n",
    "    print(\"Grade: A\")\n"
   ]
  },
  {
   "cell_type": "markdown",
   "id": "b4fb9d86-f5fb-4024-b3c8-b29bc251509e",
   "metadata": {},
   "source": [
    "### 14. A student will not be allowed to sit in exam if his/her attendance is less than 75%.\n",
    "\n",
    "Take following input from user:\n",
    "\n",
    "Number of classes held\n",
    "\n",
    "Number of classes attended\n",
    "\n",
    "And print:\n",
    "\n",
    "Percentage of class attended\n",
    "\n",
    "Is student allowed to sit in exam or not"
   ]
  },
  {
   "cell_type": "code",
   "execution_count": 15,
   "id": "c36f1d92-f747-407a-913a-65081e535a0e",
   "metadata": {},
   "outputs": [
    {
     "name": "stdin",
     "output_type": "stream",
     "text": [
      "Enter number of classes held:  11\n",
      "Enter number of classes attended:  7\n"
     ]
    },
    {
     "name": "stdout",
     "output_type": "stream",
     "text": [
      "Attendance Percentage: 63.63636363636363 %\n",
      "You are NOT allowed to sit in the exam.\n"
     ]
    }
   ],
   "source": [
    "classes_held = int(input(\"Enter number of classes held: \"))\n",
    "classes_attended = int(input(\"Enter number of classes attended: \"))\n",
    "\n",
    "\n",
    "attendance = (classes_attended / classes_held) * 100\n",
    "\n",
    "\n",
    "print(\"Attendance Percentage:\", attendance, \"%\")\n",
    "\n",
    "\n",
    "if attendance >= 75:\n",
    "    print(\"You are allowed to sit in the exam.\")\n",
    "else:\n",
    "    print(\"You are NOT allowed to sit in the exam.\")"
   ]
  },
  {
   "cell_type": "markdown",
   "id": "0468dd59-7989-4841-830f-0fd2e9810727",
   "metadata": {},
   "source": [
    "### 15. Modify the above question to allow student to sit if he/she has medical cause.\n",
    "\n",
    "Ask user if he/she has medical cause or not ('Y' or 'N') and print accordingly."
   ]
  },
  {
   "cell_type": "code",
   "execution_count": 17,
   "id": "3955244e-4404-471a-892e-cb6d962a6bd0",
   "metadata": {},
   "outputs": [
    {
     "name": "stdin",
     "output_type": "stream",
     "text": [
      "Enter number of classes held:  100\n",
      "Enter number of classes attended:  80\n",
      "Do you have a medical cause? (Y/N):  n\n"
     ]
    },
    {
     "name": "stdout",
     "output_type": "stream",
     "text": [
      "You are allowed to sit in the exam.\n"
     ]
    }
   ],
   "source": [
    "\n",
    "classes_held = int(input(\"Enter number of classes held: \"))\n",
    "classes_attended = int(input(\"Enter number of classes attended: \"))\n",
    "\n",
    "\n",
    "attendance = (classes_attended / classes_held) * 100\n",
    "\n",
    "\n",
    "medical_cause = input(\"Do you have a medical cause? (Y/N): \")\n",
    "\n",
    "\n",
    "if attendance >= 75 or medical_cause.upper() == 'Y':\n",
    "    print(\"You are allowed to sit in the exam.\")\n",
    "else:\n",
    "    print(\"You are NOT allowed to sit in the exam.\")\n"
   ]
  },
  {
   "cell_type": "markdown",
   "id": "5d95aab7-9124-40a7-bd91-0b3df0a6040c",
   "metadata": {},
   "source": [
    "### 16. Write a program to check if a year is leap year or not.\n",
    "\n",
    "If a year is divisible by 4 then it is a leap year\n",
    "\n",
    "But if the year is a century year like 2000, 1900, 2100, then it must also be divisible by 400"
   ]
  },
  {
   "cell_type": "code",
   "execution_count": 18,
   "id": "179d71ac-3c8a-4fdc-9a54-f6cd39cfece0",
   "metadata": {},
   "outputs": [
    {
     "name": "stdin",
     "output_type": "stream",
     "text": [
      "Enter a year:  2001\n"
     ]
    },
    {
     "name": "stdout",
     "output_type": "stream",
     "text": [
      "2001 is NOT a Leap Year.\n"
     ]
    }
   ],
   "source": [
    "\n",
    "year = int(input(\"Enter a year: \"))\n",
    "\n",
    "\n",
    "if (year % 4 == 0 and year % 100 != 0) or (year % 400 == 0):\n",
    "    print(year, \"is a Leap Year.\")\n",
    "else:\n",
    "    print(year, \"is NOT a Leap Year.\")\n"
   ]
  },
  {
   "cell_type": "markdown",
   "id": "004b6095-c46a-4198-88ee-bb034e03ba49",
   "metadata": {},
   "source": [
    "### 17. Ask user to enter age, gender (M or F), marital status (Y or N)\n",
    "\n",
    "Rules:\n",
    "\n",
    "If employee is female → she will work only in urban areas.\n",
    "\n",
    "If employee is male and age is between 20 to 40 → he may work anywhere.\n",
    "\n",
    "If employee is male and age is between 40 to 60 → he will work in urban areas only.\n",
    "\n",
    "Any other input should print \"ERROR\""
   ]
  },
  {
   "cell_type": "code",
   "execution_count": 19,
   "id": "a6380922-fb71-4615-bfe6-5b6a6b894db7",
   "metadata": {},
   "outputs": [
    {
     "name": "stdin",
     "output_type": "stream",
     "text": [
      "Enter age:  18\n",
      "Enter gender (M or F):  m\n",
      "Enter marital status (Y or N):  n\n"
     ]
    },
    {
     "name": "stdout",
     "output_type": "stream",
     "text": [
      "ERROR: Invalid age for male.\n"
     ]
    }
   ],
   "source": [
    "\n",
    "age = int(input(\"Enter age: \"))\n",
    "gender = input(\"Enter gender (M or F): \").upper()\n",
    "marital_status = input(\"Enter marital status (Y or N): \").upper()\n",
    "\n",
    "\n",
    "if gender == 'F':\n",
    "    print(\"She will work only in urban areas.\")\n",
    "elif gender == 'M':\n",
    "    if 20 <= age <= 40:\n",
    "        print(\"He may work anywhere.\")\n",
    "    elif 40 < age <= 60:\n",
    "        print(\"He will work only in urban areas.\")\n",
    "    else:\n",
    "        print(\"ERROR: Invalid age for male.\")\n",
    "else:\n",
    "    print(\"ERROR: Invalid gender input.\")"
   ]
  },
  {
   "cell_type": "markdown",
   "id": "be17426d-994a-4a13-b666-277a10ee097e",
   "metadata": {},
   "source": [
    "### 6. Write a program to calculate the electricity bill (accept number of unit from user) according to the following criteria : Unit Price uptp 100 units no charge Next 200 units Rs 5 per unit After 200 units Rs 10 per unit (For example if input unit is 350 than total bill amount is Rs.3500 (For example if input unit is 97 than total bill amount is Rs.0 (For example if input unit is 150 than total bill amount is Rs.750"
   ]
  },
  {
   "cell_type": "code",
   "execution_count": 20,
   "id": "88fc93ae-f353-4abd-ad44-884d10a820d3",
   "metadata": {},
   "outputs": [
    {
     "name": "stdin",
     "output_type": "stream",
     "text": [
      "Enter number of electricity units used:  200\n"
     ]
    },
    {
     "name": "stdout",
     "output_type": "stream",
     "text": [
      "Your electricity bill is: ₹ 500\n"
     ]
    }
   ],
   "source": [
    "units = int(input(\"Enter number of electricity units used: \"))\n",
    "\n",
    "\n",
    "if units <= 100:\n",
    "    bill = 0\n",
    "elif units <= 300:\n",
    "    bill = (units - 100) * 5\n",
    "else:\n",
    "    bill = (200 * 5) + (units - 300) * 10\n",
    "\n",
    "print(\"Your electricity bill is: ₹\", bill)"
   ]
  },
  {
   "cell_type": "markdown",
   "id": "633850a8-c6f5-49e9-b8e8-3a95d937ad42",
   "metadata": {},
   "source": [
    "### 13. Take input of age of 3 people and determine oldest and youngest among them"
   ]
  },
  {
   "cell_type": "code",
   "execution_count": 21,
   "id": "55fc5a6a-01e4-4bb8-8bfe-edc82bf013c7",
   "metadata": {},
   "outputs": [
    {
     "name": "stdin",
     "output_type": "stream",
     "text": [
      "Enter age of first person:  20\n",
      "Enter age of second person:  18\n",
      "Enter age of third person:  11\n"
     ]
    },
    {
     "name": "stdout",
     "output_type": "stream",
     "text": [
      "Oldest age is: 20\n",
      "Youngest age is: 11\n"
     ]
    }
   ],
   "source": [
    "age1 = int(input(\"Enter age of first person: \"))\n",
    "age2 = int(input(\"Enter age of second person: \"))\n",
    "age3 = int(input(\"Enter age of third person: \"))\n",
    "\n",
    "oldest = max(age1, age2, age3)\n",
    "\n",
    "\n",
    "youngest = min(age1, age2, age3)\n",
    "\n",
    "print(\"Oldest age is:\", oldest)\n",
    "print(\"Youngest age is:\", youngest)\n"
   ]
  },
  {
   "cell_type": "code",
   "execution_count": null,
   "id": "22f406b3-e73b-4232-8a5f-fdb67436cecb",
   "metadata": {},
   "outputs": [],
   "source": []
  }
 ],
 "metadata": {
  "kernelspec": {
   "display_name": "Python 3 (ipykernel)",
   "language": "python",
   "name": "python3"
  },
  "language_info": {
   "codemirror_mode": {
    "name": "ipython",
    "version": 3
   },
   "file_extension": ".py",
   "mimetype": "text/x-python",
   "name": "python",
   "nbconvert_exporter": "python",
   "pygments_lexer": "ipython3",
   "version": "3.13.5"
  }
 },
 "nbformat": 4,
 "nbformat_minor": 5
}
