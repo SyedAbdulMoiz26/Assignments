{
 "cells": [
  {
   "cell_type": "markdown",
   "id": "6380c2fe-d5e0-4413-90f7-e27bca8fefd1",
   "metadata": {},
   "source": [
    "### 1. Print Your Name with your Father name and Date of birth using suitable escape sequence character"
   ]
  },
  {
   "cell_type": "code",
   "execution_count": 1,
   "id": "5015fac4-12ab-469b-b795-bb0ac729797f",
   "metadata": {},
   "outputs": [
    {
     "name": "stdout",
     "output_type": "stream",
     "text": [
      "Name:\tMoiz Amir\n",
      "Father's Name:\tAmir ali\n",
      "Date of Birth:\t26-Jun-2005\n"
     ]
    }
   ],
   "source": [
    "print(\"Name:\\tMoiz Amir\\nFather's Name:\\tAmir ali\\nDate of Birth:\\t26-Jun-2005\")\n"
   ]
  },
  {
   "cell_type": "markdown",
   "id": "d39ba8a0-70ac-43fc-ae00-8af1586faf62",
   "metadata": {},
   "source": [
    "### 2. Write your small bio using variables and print it using print function"
   ]
  },
  {
   "cell_type": "code",
   "execution_count": 2,
   "id": "d3014a90-6b73-49a2-bdb7-46ade7f9c393",
   "metadata": {},
   "outputs": [
    {
     "name": "stdout",
     "output_type": "stream",
     "text": [
      "Name: Moiz Amir\n",
      "Age: 25\n",
      "City: karachi\n",
      "Profession: Software Engineer\n"
     ]
    }
   ],
   "source": [
    "name = \"Moiz Amir\"\n",
    "age = 25\n",
    "city = \"karachi\"\n",
    "profession = \"Software Engineer\"\n",
    "\n",
    "print(\"Name:\", name)\n",
    "print(\"Age:\", age)\n",
    "print(\"City:\", city)\n",
    "print(\"Profession:\", profession)"
   ]
  },
  {
   "cell_type": "markdown",
   "id": "21ca224e-8924-4831-93fc-0c300a7d5919",
   "metadata": {},
   "source": [
    "### 3. Write a program in which use all the operators we can use in Python"
   ]
  },
  {
   "cell_type": "code",
   "execution_count": 4,
   "id": "88f9cb55-6170-4955-b53e-960965d87d39",
   "metadata": {},
   "outputs": [
    {
     "name": "stdout",
     "output_type": "stream",
     "text": [
      "Addition: 13\n",
      "Subtraction: 7\n",
      "Multiplication: 30\n",
      "Division: 3.3333333333333335\n",
      "Floor Division: 3\n",
      "Modulus: 1\n",
      "Exponentiation: 1000\n",
      "After +=2: 12\n",
      "Equal: False\n",
      "Not Equal: True\n",
      "Greater Than: True\n",
      "Less Than: False\n",
      "Is a > 5 and b < 10? True\n"
     ]
    }
   ],
   "source": [
    "a = 10\n",
    "b = 3\n",
    "\n",
    "\n",
    "print(\"Addition:\", a + b)\n",
    "print(\"Subtraction:\", a - b)\n",
    "print(\"Multiplication:\", a * b)\n",
    "print(\"Division:\", a / b)\n",
    "print(\"Floor Division:\", a // b)\n",
    "print(\"Modulus:\", a % b)\n",
    "print(\"Exponentiation:\", a ** b)\n",
    "\n",
    "\n",
    "a += 2\n",
    "print(\"After +=2:\", a)\n",
    "\n",
    "\n",
    "print(\"Equal:\", a == b)\n",
    "print(\"Not Equal:\", a != b)\n",
    "print(\"Greater Than:\", a > b)\n",
    "print(\"Less Than:\", a < b)\n",
    "\n",
    "\n",
    "print(\"Is a > 5 and b < 10?\", a > 5 and b < 10)\n",
    "\n"
   ]
  },
  {
   "cell_type": "markdown",
   "id": "b490c115-efc2-426b-a6bb-6050b1dfe76f",
   "metadata": {},
   "source": [
    "### 4: Completes the following steps of small task:\n",
    ": Mention Marks of English , Islamiat and Maths out of 100 in 3 different variables\n",
    "        ,Mention Variable of Total Marks and assign 300 to it\n",
    "  Calculate Percentage"
   ]
  },
  {
   "cell_type": "code",
   "execution_count": 5,
   "id": "13dd13b8-4094-4de1-9390-0f96da6649f6",
   "metadata": {},
   "outputs": [
    {
     "name": "stdout",
     "output_type": "stream",
     "text": [
      "Marks Obtained: 245\n",
      "Percentage: 81.66666666666667 %\n"
     ]
    }
   ],
   "source": [
    "\n",
    "english = 75\n",
    "islamiyat = 80\n",
    "maths = 90\n",
    "\n",
    "\n",
    "total_marks = 300\n",
    "\n",
    "\n",
    "obtained_marks = english + islamiyat + maths\n",
    "\n",
    "\n",
    "percentage = (obtained_marks / total_marks) * 100\n",
    "\n",
    "\n",
    "print(\"Marks Obtained:\", obtained_marks)\n",
    "print(\"Percentage:\", percentage, \"%\")\n"
   ]
  },
  {
   "cell_type": "code",
   "execution_count": null,
   "id": "a6c9e537-d822-4a10-ac0f-db4abb5b62b1",
   "metadata": {},
   "outputs": [],
   "source": []
  }
 ],
 "metadata": {
  "kernelspec": {
   "display_name": "Python 3 (ipykernel)",
   "language": "python",
   "name": "python3"
  },
  "language_info": {
   "codemirror_mode": {
    "name": "ipython",
    "version": 3
   },
   "file_extension": ".py",
   "mimetype": "text/x-python",
   "name": "python",
   "nbconvert_exporter": "python",
   "pygments_lexer": "ipython3",
   "version": "3.13.5"
  }
 },
 "nbformat": 4,
 "nbformat_minor": 5
}
