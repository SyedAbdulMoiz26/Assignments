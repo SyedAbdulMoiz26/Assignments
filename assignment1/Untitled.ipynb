{
 "cells": [
  {
   "cell_type": "markdown",
   "id": "6380c2fe-d5e0-4413-90f7-e27bca8fefd1",
   "metadata": {},
   "source": [
    "### 1. Print Your Name with your Father name and Date of birth using suitable escape sequence character"
   ]
  },
  {
   "cell_type": "code",
   "execution_count": 1,
   "id": "5015fac4-12ab-469b-b795-bb0ac729797f",
   "metadata": {},
   "outputs": [
    {
     "name": "stdout",
     "output_type": "stream",
     "text": [
      "Name:\tMoiz Amir\n",
      "Father's Name:\tAmir ali\n",
      "Date of Birth:\t26-Jun-2005\n"
     ]
    }
   ],
   "source": [
    "print(\"Name:\\tMoiz Amir\\nFather's Name:\\tAmir ali\\nDate of Birth:\\t26-Jun-2005\")\n"
   ]
  },
  {
   "cell_type": "markdown",
   "id": "d39ba8a0-70ac-43fc-ae00-8af1586faf62",
   "metadata": {},
   "source": [
    "### 2. Write your small bio using variables and print it using print function"
   ]
  },
  {
   "cell_type": "code",
   "execution_count": 2,
   "id": "d3014a90-6b73-49a2-bdb7-46ade7f9c393",
   "metadata": {},
   "outputs": [
    {
     "name": "stdout",
     "output_type": "stream",
     "text": [
      "Name: Moiz Amir\n",
      "Age: 25\n",
      "City: karachi\n",
      "Profession: Software Engineer\n"
     ]
    }
   ],
   "source": [
    "name = \"Moiz Amir\"\n",
    "age = 25\n",
    "city = \"karachi\"\n",
    "profession = \"Software Engineer\"\n",
    "\n",
    "print(\"Name:\", name)\n",
    "print(\"Age:\", age)\n",
    "print(\"City:\", city)\n",
    "print(\"Profession:\", profession)"
   ]
  },
  {
   "cell_type": "markdown",
   "id": "21ca224e-8924-4831-93fc-0c300a7d5919",
   "metadata": {},
   "source": [
    "### 3. Write a program in which use all the operators we can use in Python"
   ]
  },
  {
   "cell_type": "code",
   "execution_count": 4,
   "id": "88f9cb55-6170-4955-b53e-960965d87d39",
   "metadata": {},
   "outputs": [
    {
     "name": "stdout",
     "output_type": "stream",
     "text": [
      "Addition: 13\n",
      "Subtraction: 7\n",
      "Multiplication: 30\n",
      "Division: 3.3333333333333335\n",
      "Floor Division: 3\n",
      "Modulus: 1\n",
      "Exponentiation: 1000\n",
      "After +=2: 12\n",
      "Equal: False\n",
      "Not Equal: True\n",
      "Greater Than: True\n",
      "Less Than: False\n",
      "Is a > 5 and b < 10? True\n"
     ]
    }
   ],
   "source": [
    "a = 10\n",
    "b = 3\n",
    "\n",
    "\n",
    "print(\"Addition:\", a + b)\n",
    "print(\"Subtraction:\", a - b)\n",
    "print(\"Multiplication:\", a * b)\n",
    "print(\"Division:\", a / b)\n",
    "print(\"Floor Division:\", a // b)\n",
    "print(\"Modulus:\", a % b)\n",
    "print(\"Exponentiation:\", a ** b)\n",
    "\n",
    "\n",
    "a += 2\n",
    "print(\"After +=2:\", a)\n",
    "\n",
    "\n",
    "print(\"Equal:\", a == b)\n",
    "print(\"Not Equal:\", a != b)\n",
    "print(\"Greater Than:\", a > b)\n",
    "print(\"Less Than:\", a < b)\n",
    "\n",
    "\n",
    "print(\"Is a > 5 and b < 10?\", a > 5 and b < 10)\n",
    "\n"
   ]
  },
  {
   "cell_type": "markdown",
   "id": "b490c115-efc2-426b-a6bb-6050b1dfe76f",
   "metadata": {},
   "source": [
    "### 4: Completes the following steps of small task:\n",
    ": Mention Marks of English , Islamiat and Maths out of 100 in 3 different variables\n",
    "        ,Mention Variable of Total Marks and assign 300 to it\n",
    "  Calculate Percentage"
   ]
  },
  {
   "cell_type": "code",
   "execution_count": 5,
   "id": "13dd13b8-4094-4de1-9390-0f96da6649f6",
   "metadata": {},
   "outputs": [
    {
     "name": "stdout",
     "output_type": "stream",
     "text": [
      "Marks Obtained: 245\n",
      "Percentage: 81.66666666666667 %\n"
     ]
    }
   ],
   "source": [
    "\n",
    "english = 75\n",
    "islamiyat = 80\n",
    "maths = 90\n",
    "\n",
    "\n",
    "total_marks = 300\n",
    "\n",
    "\n",
    "obtained_marks = english + islamiyat + maths\n",
    "\n",
    "\n",
    "percentage = (obtained_marks / total_marks) * 100\n",
    "\n",
    "\n",
    "print(\"Marks Obtained:\", obtained_marks)\n",
    "print(\"Percentage:\", percentage, \"%\")\n"
   ]
  },
  {
   "cell_type": "markdown",
   "id": "5a9c4b74-5f78-4866-8463-13147ab681c7",
   "metadata": {},
   "source": [
    "## Part -2 Python Basics (Conditional Statements)"
   ]
  },
  {
   "cell_type": "markdown",
   "id": "e10562b8-235e-43de-8206-a3e0ec85e291",
   "metadata": {},
   "source": [
    "### 1. A company decided to give bonus of 5% to employee if his/her year of service is more than 5 years. Ask user for their salary and year of service and print the net bonus amount."
   ]
  },
  {
   "cell_type": "code",
   "execution_count": null,
   "id": "76593a7e-ba5e-4971-bb88-a9cedc9eba33",
   "metadata": {},
   "outputs": [],
   "source": [
    "salary = float(input(\"Enter your salary: \"))\n",
    "years_of_service = int(input(\"Enter your years of service: \"))\n",
    "\n",
    "\n",
    "if years_of_service > 5:\n",
    "    bonus = salary * 0.05\n",
    "    print(\"You are eligible for a bonus of:\", bonus)\n",
    "else:\n",
    "    print(\"You are not eligible for a bonus.\")\n"
   ]
  },
  {
   "cell_type": "markdown",
   "id": "475edcfb-b75d-472b-8f8c-71348765cc00",
   "metadata": {},
   "source": [
    "### 2. Write a program to check whether a person is eligible for voting or not. (accept age from user) if age is greater than 17 eligible otherwise not eligible"
   ]
  },
  {
   "cell_type": "code",
   "execution_count": 7,
   "id": "e569f122-7184-448a-a828-4f83679142ac",
   "metadata": {},
   "outputs": [
    {
     "name": "stdin",
     "output_type": "stream",
     "text": [
      "Enter your age:  19\n"
     ]
    },
    {
     "name": "stdout",
     "output_type": "stream",
     "text": [
      "You are eligible to vote.\n"
     ]
    }
   ],
   "source": [
    "age = int(input(\"Enter your age: \"))\n",
    "\n",
    "\n",
    "if age > 17:\n",
    "    print(\"You are eligible to vote.\")\n",
    "else:\n",
    "    print(\"You are not eligible to vote.\")"
   ]
  },
  {
   "cell_type": "markdown",
   "id": "e75ea5bb-becd-4a20-b34f-e95f6616b1fb",
   "metadata": {},
   "source": [
    "### 3. Write a program to check whether a number entered by user is even or odd.\n"
   ]
  },
  {
   "cell_type": "code",
   "execution_count": 9,
   "id": "94c63e8e-8833-4144-a76e-5aa2a14e4162",
   "metadata": {},
   "outputs": [
    {
     "name": "stdin",
     "output_type": "stream",
     "text": [
      "Enter a number:  1\n"
     ]
    },
    {
     "name": "stdout",
     "output_type": "stream",
     "text": [
      "The number is odd.\n"
     ]
    }
   ],
   "source": [
    "\n",
    "num = int(input(\"Enter a number: \"))\n",
    "\n",
    "\n",
    "if num % 2 == 0:\n",
    "    print(\"The number is even.\")\n",
    "else:\n",
    "    print(\"The number is odd.\")\n"
   ]
  },
  {
   "cell_type": "markdown",
   "id": "b14dd3c5-f1d1-46c4-a8d8-426d902df677",
   "metadata": {},
   "source": [
    "### 4. Write a program to check whether a number is divisible by 7 or not. Show Answer"
   ]
  },
  {
   "cell_type": "code",
   "execution_count": 11,
   "id": "ee19685f-cef8-4da5-a0b2-58e9a15d7d15",
   "metadata": {},
   "outputs": [
    {
     "name": "stdin",
     "output_type": "stream",
     "text": [
      "Enter a number:  15\n"
     ]
    },
    {
     "name": "stdout",
     "output_type": "stream",
     "text": [
      "The number is NOT divisible by 7.\n"
     ]
    }
   ],
   "source": [
    "num = int(input(\"Enter a number: \"))\n",
    "\n",
    "\n",
    "if num % 7 == 0:\n",
    "    print(\"The number is divisible by 7.\")\n",
    "else:\n",
    "    print(\"The number is NOT divisible by 7.\")\n"
   ]
  },
  {
   "cell_type": "markdown",
   "id": "14a6ffab-3007-4205-bb60-c58fd5cb6ca9",
   "metadata": {},
   "source": [
    "### 5. Write a program to display \"Hello\" if a number entered by user is a multiple of five , otherwise print \"Bye\""
   ]
  },
  {
   "cell_type": "code",
   "execution_count": 13,
   "id": "ea0c3ac4-93a3-45a8-bc4f-74bd5c66eb99",
   "metadata": {},
   "outputs": [
    {
     "name": "stdin",
     "output_type": "stream",
     "text": [
      "Enter a number:  11\n"
     ]
    },
    {
     "name": "stdout",
     "output_type": "stream",
     "text": [
      "Bye\n"
     ]
    }
   ],
   "source": [
    "\n",
    "num = int(input(\"Enter a number: \"))\n",
    "\n",
    "\n",
    "if num % 5 == 0:\n",
    "    print(\"Hello\")\n",
    "else:\n",
    "    print(\"Bye\")"
   ]
  },
  {
   "cell_type": "markdown",
   "id": "f46605db-5e84-4645-af34-346a5c10ec46",
   "metadata": {},
   "source": [
    "### 7. Write a program to display the last digit of a number."
   ]
  },
  {
   "cell_type": "code",
   "execution_count": 14,
   "id": "7551a655-4cd7-45e1-a61f-cbc79f8e6064",
   "metadata": {},
   "outputs": [
    {
     "name": "stdin",
     "output_type": "stream",
     "text": [
      "Enter a number:  10010107\n"
     ]
    },
    {
     "name": "stdout",
     "output_type": "stream",
     "text": [
      "Last digit of the number is: 7\n"
     ]
    }
   ],
   "source": [
    "\n",
    "num = int(input(\"Enter a number: \"))\n",
    "\n",
    "\n",
    "last_digit = num % 10\n",
    "\n",
    "print(\"Last digit of the number is:\", last_digit)"
   ]
  },
  {
   "cell_type": "markdown",
   "id": "66252ca7-7fe1-4673-b057-94b7e76bedc8",
   "metadata": {},
   "source": [
    "### 9. Take values of length and breadth of a rectangle from user and print if it is square or rectangle."
   ]
  },
  {
   "cell_type": "code",
   "execution_count": 17,
   "id": "0de955cd-7093-41c7-929c-9866b8058f1a",
   "metadata": {},
   "outputs": [
    {
     "name": "stdin",
     "output_type": "stream",
     "text": [
      "Enter the length:  5\n",
      "Enter the breadth:  5\n"
     ]
    },
    {
     "name": "stdout",
     "output_type": "stream",
     "text": [
      "It is a square.\n"
     ]
    }
   ],
   "source": [
    "\n",
    "length = float(input(\"Enter the length: \"))\n",
    "breadth = float(input(\"Enter the breadth: \"))\n",
    "\n",
    "\n",
    "if length == breadth:\n",
    "    print(\"It is a square.\")\n",
    "else:\n",
    "    print(\"It is a rectangle.\")"
   ]
  },
  {
   "cell_type": "markdown",
   "id": "8545e1c2-6320-443c-9bf1-5ef1296451f6",
   "metadata": {},
   "source": [
    "### 10. Take two int values from user and print greatest among them."
   ]
  },
  {
   "cell_type": "code",
   "execution_count": 18,
   "id": "6e26be6b-618b-406e-8524-f0375f1283de",
   "metadata": {},
   "outputs": [
    {
     "name": "stdin",
     "output_type": "stream",
     "text": [
      "Enter first number:  20\n",
      "Enter second number:  21\n"
     ]
    },
    {
     "name": "stdout",
     "output_type": "stream",
     "text": [
      "The greatest number is: 21\n"
     ]
    }
   ],
   "source": [
    "num1 = int(input(\"Enter first number: \"))\n",
    "num2 = int(input(\"Enter second number: \"))\n",
    "\n",
    "\n",
    "if num1 > num2:\n",
    "    print(\"The greatest number is:\", num1)\n",
    "elif num2 > num1:\n",
    "    print(\"The greatest number is:\", num2)\n",
    "else:\n",
    "    print(\"Both numbers are equal.\")\n"
   ]
  },
  {
   "cell_type": "markdown",
   "id": "b4bb4632-6040-42df-9a25-e26e8ef09ca0",
   "metadata": {},
   "source": [
    "### 11. A shop will give discount of 10% if the cost of purchased quantity is more than 1000. Ask user for quantity. Suppose one unit will cost 100. Judge and print total cost for user."
   ]
  },
  {
   "cell_type": "code",
   "execution_count": 20,
   "id": "72498521-dec5-46f0-83b0-3a06e5a62ac0",
   "metadata": {},
   "outputs": [
    {
     "name": "stdin",
     "output_type": "stream",
     "text": [
      "Enter quantity:  9\n"
     ]
    },
    {
     "name": "stdout",
     "output_type": "stream",
     "text": [
      "Total cost after discount (if any): 900\n"
     ]
    }
   ],
   "source": [
    "\n",
    "quantity = int(input(\"Enter quantity: \"))\n",
    "\n",
    "\n",
    "unit_price = 100\n",
    "\n",
    "\n",
    "total_cost = quantity * unit_price\n",
    "\n",
    "\n",
    "if total_cost > 1000:\n",
    "    discount = total_cost * 0.10\n",
    "    total_cost = total_cost - discount\n",
    "\n",
    "\n",
    "print(\"Total cost after discount (if any):\", total_cost)\n"
   ]
  },
  {
   "cell_type": "markdown",
   "id": "371934ff-1f61-4466-bb69-a2fda4bfc429",
   "metadata": {},
   "source": [
    "### 12. A school has following rules for grading system:\n",
    "\n",
    "Below 25 – F\n",
    "\n",
    "25 to 45 – E\n",
    "\n",
    "45 to 50 – D\n",
    "\n",
    "50 to 60 – C\n",
    "\n",
    "60 to 80 – B\n",
    "\n",
    "Above 80 – A"
   ]
  },
  {
   "cell_type": "code",
   "execution_count": 21,
   "id": "72c5a631-cb0a-402d-b6e0-8eeac96efa3b",
   "metadata": {},
   "outputs": [
    {
     "name": "stdin",
     "output_type": "stream",
     "text": [
      "Enter your marks:  71\n"
     ]
    },
    {
     "name": "stdout",
     "output_type": "stream",
     "text": [
      "Grade: B\n"
     ]
    }
   ],
   "source": [
    "marks = int(input(\"Enter your marks: \"))\n",
    "\n",
    "\n",
    "if marks < 25:\n",
    "    print(\"Grade: F\")\n",
    "elif marks <= 45:\n",
    "    print(\"Grade: E\")\n",
    "elif marks <= 50:\n",
    "    print(\"Grade: D\")\n",
    "elif marks <= 60:\n",
    "    print(\"Grade: C\")\n",
    "elif marks <= 80:\n",
    "    print(\"Grade: B\")\n",
    "else:\n",
    "    print(\"Grade: A\")\n"
   ]
  },
  {
   "cell_type": "markdown",
   "id": "45f558ef-bf7e-4ea1-9b6b-29e820ecbf5d",
   "metadata": {},
   "source": [
    "### 14. A student will not be allowed to sit in exam if his/her attendance is less than 75%.\n",
    "\n",
    "Take following input from user:\n",
    "\n",
    "Number of classes held\n",
    "\n",
    "Number of classes attended\n",
    "\n",
    "And print:\n",
    "\n",
    "Percentage of class attended\n",
    "\n",
    "Is student allowed to sit in exam or not"
   ]
  },
  {
   "cell_type": "code",
   "execution_count": 22,
   "id": "ce77a6c9-5571-4f15-b6ae-6c877bd3f950",
   "metadata": {},
   "outputs": [
    {
     "name": "stdin",
     "output_type": "stream",
     "text": [
      "Enter number of classes held:  81\n",
      "Enter number of classes attended:  67\n"
     ]
    },
    {
     "name": "stdout",
     "output_type": "stream",
     "text": [
      "Attendance Percentage: 82.71604938271605 %\n",
      "You are allowed to sit in the exam.\n"
     ]
    }
   ],
   "source": [
    "classes_held = int(input(\"Enter number of classes held: \"))\n",
    "classes_attended = int(input(\"Enter number of classes attended: \"))\n",
    "\n",
    "\n",
    "attendance = (classes_attended / classes_held) * 100\n",
    "\n",
    "\n",
    "print(\"Attendance Percentage:\", attendance, \"%\")\n",
    "\n",
    "\n",
    "if attendance >= 75:\n",
    "    print(\"You are allowed to sit in the exam.\")\n",
    "else:\n",
    "    print(\"You are NOT allowed to sit in the exam.\")"
   ]
  },
  {
   "cell_type": "markdown",
   "id": "528a7ade-5e09-4b41-ad9c-bf594487ae3a",
   "metadata": {},
   "source": [
    "### 15. Modify the above question to allow student to sit if he/she has medical cause.\n",
    "\n",
    "Ask user if he/she has medical cause or not ('Y' or 'N') and print accordingly."
   ]
  },
  {
   "cell_type": "code",
   "execution_count": 24,
   "id": "81edf48e-6d37-4525-aff2-b3f8eb1ef115",
   "metadata": {},
   "outputs": [
    {
     "name": "stdin",
     "output_type": "stream",
     "text": [
      "Enter number of classes held:  1000\n",
      "Enter number of classes attended:  800\n",
      "Do you have a medical cause? (Y/N):  y\n"
     ]
    },
    {
     "name": "stdout",
     "output_type": "stream",
     "text": [
      "You are allowed to sit in the exam.\n"
     ]
    }
   ],
   "source": [
    "\n",
    "classes_held = int(input(\"Enter number of classes held: \"))\n",
    "classes_attended = int(input(\"Enter number of classes attended: \"))\n",
    "\n",
    "\n",
    "attendance = (classes_attended / classes_held) * 100\n",
    "\n",
    "\n",
    "medical_cause = input(\"Do you have a medical cause? (Y/N): \")\n",
    "\n",
    "\n",
    "if attendance >= 75 or medical_cause.upper() == 'Y':\n",
    "    print(\"You are allowed to sit in the exam.\")\n",
    "else:\n",
    "    print(\"You are NOT allowed to sit in the exam.\")\n"
   ]
  },
  {
   "cell_type": "markdown",
   "id": "ccabc632-5f42-4b07-a3e3-41bd1b8a3996",
   "metadata": {},
   "source": [
    "### 16. Write a program to check if a year is leap year or not.\n",
    "\n",
    "If a year is divisible by 4 then it is a leap year\n",
    "\n",
    "But if the year is a century year like 2000, 1900, 2100, then it must also be divisible by 400"
   ]
  },
  {
   "cell_type": "code",
   "execution_count": 2,
   "id": "cf4b3dd3-9894-4d10-903a-10ddba2118b4",
   "metadata": {},
   "outputs": [
    {
     "name": "stdin",
     "output_type": "stream",
     "text": [
      "Enter a year:  2004\n"
     ]
    },
    {
     "name": "stdout",
     "output_type": "stream",
     "text": [
      "2004 is a Leap Year.\n"
     ]
    }
   ],
   "source": [
    "\n",
    "year = int(input(\"Enter a year: \"))\n",
    "\n",
    "\n",
    "if (year % 4 == 0 and year % 100 != 0) or (year % 400 == 0):\n",
    "    print(year, \"is a Leap Year.\")\n",
    "else:\n",
    "    print(year, \"is NOT a Leap Year.\")\n"
   ]
  },
  {
   "cell_type": "markdown",
   "id": "f1f8d2b2-0a66-44bf-a29e-32e5e35c0f3c",
   "metadata": {},
   "source": [
    "### 17. Ask user to enter age, gender (M or F), marital status (Y or N)\n",
    "\n",
    "Rules:\n",
    "\n",
    "If employee is female → she will work only in urban areas.\n",
    "\n",
    "If employee is male and age is between 20 to 40 → he may work anywhere.\n",
    "\n",
    "If employee is male and age is between 40 to 60 → he will work in urban areas only.\n",
    "\n",
    "Any other input should print \"ERROR\""
   ]
  },
  {
   "cell_type": "code",
   "execution_count": 5,
   "id": "bcf58e85-45db-4f0b-841c-b33b53f08e9c",
   "metadata": {},
   "outputs": [
    {
     "name": "stdin",
     "output_type": "stream",
     "text": [
      "Enter age:  21\n",
      "Enter gender (M or F):  m\n",
      "Enter marital status (Y or N):  y\n"
     ]
    },
    {
     "name": "stdout",
     "output_type": "stream",
     "text": [
      "He may work anywhere.\n"
     ]
    }
   ],
   "source": [
    "\n",
    "age = int(input(\"Enter age: \"))\n",
    "gender = input(\"Enter gender (M or F): \").upper()\n",
    "marital_status = input(\"Enter marital status (Y or N): \").upper()\n",
    "\n",
    "\n",
    "if gender == 'F':\n",
    "    print(\"She will work only in urban areas.\")\n",
    "elif gender == 'M':\n",
    "    if 20 <= age <= 40:\n",
    "        print(\"He may work anywhere.\")\n",
    "    elif 40 < age <= 60:\n",
    "        print(\"He will work only in urban areas.\")\n",
    "    else:\n",
    "        print(\"ERROR: Invalid age for male.\")\n",
    "else:\n",
    "    print(\"ERROR: Invalid gender input.\")"
   ]
  },
  {
   "cell_type": "markdown",
   "id": "9f2bab46-938d-4cf5-87bc-d5ae49cb1378",
   "metadata": {},
   "source": [
    "### 6. Write a program to calculate the electricity bill (accept number of unit from user) according to the following criteria : Unit Price uptp 100 units no charge Next 200 units Rs 5 per unit After 200 units Rs 10 per unit (For example if input unit is 350 than total bill amount is Rs.3500 (For example if input unit is 97 than total bill amount is Rs.0 (For example if input unit is 150 than total bill amount is Rs.750"
   ]
  },
  {
   "cell_type": "code",
   "execution_count": 7,
   "id": "c21bdead-fafe-491b-9335-6dd9f14dca85",
   "metadata": {},
   "outputs": [
    {
     "name": "stdin",
     "output_type": "stream",
     "text": [
      "Enter number of electricity units used:  300\n"
     ]
    },
    {
     "name": "stdout",
     "output_type": "stream",
     "text": [
      "Your electricity bill is: ₹ 1000\n"
     ]
    }
   ],
   "source": [
    "units = int(input(\"Enter number of electricity units used: \"))\n",
    "\n",
    "\n",
    "if units <= 100:\n",
    "    bill = 0\n",
    "elif units <= 300:\n",
    "    bill = (units - 100) * 5\n",
    "else:\n",
    "    bill = (200 * 5) + (units - 300) * 10\n",
    "\n",
    "print(\"Your electricity bill is: ₹\", bill)"
   ]
  },
  {
   "cell_type": "markdown",
   "id": "71bb275d-2424-491c-b022-7a12779f697c",
   "metadata": {},
   "source": [
    "### 13. Take input of age of 3 people and determine oldest and youngest among them"
   ]
  },
  {
   "cell_type": "code",
   "execution_count": 9,
   "id": "ed2568ed-a18b-46f3-8ee2-1c7fda43a03e",
   "metadata": {},
   "outputs": [
    {
     "name": "stdin",
     "output_type": "stream",
     "text": [
      "Enter age of first person:  21\n",
      "Enter age of second person:  25\n",
      "Enter age of third person:  41\n"
     ]
    },
    {
     "name": "stdout",
     "output_type": "stream",
     "text": [
      "Oldest age is: 41\n",
      "Youngest age is: 21\n"
     ]
    }
   ],
   "source": [
    "age1 = int(input(\"Enter age of first person: \"))\n",
    "age2 = int(input(\"Enter age of second person: \"))\n",
    "age3 = int(input(\"Enter age of third person: \"))\n",
    "\n",
    "oldest = max(age1, age2, age3)\n",
    "\n",
    "\n",
    "youngest = min(age1, age2, age3)\n",
    "\n",
    "print(\"Oldest age is:\", oldest)\n",
    "print(\"Youngest age is:\", youngest)\n"
   ]
  },
  {
   "cell_type": "code",
   "execution_count": null,
   "id": "a6c9e537-d822-4a10-ac0f-db4abb5b62b1",
   "metadata": {},
   "outputs": [],
   "source": []
  }
 ],
 "metadata": {
  "kernelspec": {
   "display_name": "Python 3 (ipykernel)",
   "language": "python",
   "name": "python3"
  },
  "language_info": {
   "codemirror_mode": {
    "name": "ipython",
    "version": 3
   },
   "file_extension": ".py",
   "mimetype": "text/x-python",
   "name": "python",
   "nbconvert_exporter": "python",
   "pygments_lexer": "ipython3",
   "version": "3.13.5"
  }
 },
 "nbformat": 4,
 "nbformat_minor": 5
}
