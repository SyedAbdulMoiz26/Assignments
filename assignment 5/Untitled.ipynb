{
 "cells": [
  {
   "cell_type": "markdown",
   "id": "1885cebf-3b83-4f55-ac75-258f8ee33ae4",
   "metadata": {},
   "source": [
    "### 1. Write a Python program to print the numbers from 1 to 10 using a for loop."
   ]
  },
  {
   "cell_type": "code",
   "execution_count": 1,
   "id": "f1c03734-78e1-40f6-b73b-7854b08b64ef",
   "metadata": {},
   "outputs": [
    {
     "name": "stdout",
     "output_type": "stream",
     "text": [
      "1\n",
      "2\n",
      "3\n",
      "4\n",
      "5\n",
      "6\n",
      "7\n",
      "8\n",
      "9\n",
      "10\n"
     ]
    }
   ],
   "source": [
    "for i in range(1, 11):\n",
    "    print(i)"
   ]
  },
  {
   "cell_type": "markdown",
   "id": "10730e25-a64e-4d9f-8960-6b4819bc3dfc",
   "metadata": {},
   "source": [
    "### 2. Write a Python program to print the numbers from 20 to 1 using a while loop."
   ]
  },
  {
   "cell_type": "code",
   "execution_count": 2,
   "id": "343491d2-0829-40a1-a8a8-151a461952e5",
   "metadata": {},
   "outputs": [
    {
     "name": "stdout",
     "output_type": "stream",
     "text": [
      "20\n",
      "19\n",
      "18\n",
      "17\n",
      "16\n",
      "15\n",
      "14\n",
      "13\n",
      "12\n",
      "11\n",
      "10\n",
      "9\n",
      "8\n",
      "7\n",
      "6\n",
      "5\n",
      "4\n",
      "3\n",
      "2\n",
      "1\n"
     ]
    }
   ],
   "source": [
    "i = 20\n",
    "while i >= 1:\n",
    "    print(i)\n",
    "    i -= 1"
   ]
  },
  {
   "cell_type": "markdown",
   "id": "74247e22-b8d6-4cc6-9e23-c8594f92ee1d",
   "metadata": {},
   "source": [
    "### 3. Write a program to print even numbers from 1 to 10."
   ]
  },
  {
   "cell_type": "code",
   "execution_count": 3,
   "id": "f9081523-7f36-48ae-886a-b41d79f78705",
   "metadata": {},
   "outputs": [
    {
     "name": "stdout",
     "output_type": "stream",
     "text": [
      "2\n",
      "4\n",
      "6\n",
      "8\n",
      "10\n"
     ]
    }
   ],
   "source": [
    "for i in range(1, 11):\n",
    "    if i % 2 == 0:\n",
    "        print(i)"
   ]
  },
  {
   "cell_type": "markdown",
   "id": "8796e2e2-3320-4939-9ded-eda4030742f4",
   "metadata": {},
   "source": [
    "### 4. Write a program that prompts the user to enter a number n and prints all the numbers from 1 to n."
   ]
  },
  {
   "cell_type": "code",
   "execution_count": 5,
   "id": "55bed3a6-32a7-4eeb-9e0e-6b50dcda7ef7",
   "metadata": {},
   "outputs": [
    {
     "name": "stdin",
     "output_type": "stream",
     "text": [
      "Enter a number:  17\n"
     ]
    },
    {
     "name": "stdout",
     "output_type": "stream",
     "text": [
      "1\n",
      "2\n",
      "3\n",
      "4\n",
      "5\n",
      "6\n",
      "7\n",
      "8\n",
      "9\n",
      "10\n",
      "11\n",
      "12\n",
      "13\n",
      "14\n",
      "15\n",
      "16\n",
      "17\n"
     ]
    }
   ],
   "source": [
    "n = int(input(\"Enter a number: \"))\n",
    "for i in range(1, n+1):\n",
    "    print(i)"
   ]
  },
  {
   "cell_type": "markdown",
   "id": "d1943df5-3ffc-421f-acc0-cbf84bd418b6",
   "metadata": {},
   "source": [
    "### 5. Write a program that prompts the user to enter a number n, and then prints all the odd numbers between 1 and n."
   ]
  },
  {
   "cell_type": "code",
   "execution_count": 6,
   "id": "80b13126-aaa2-439a-9663-79ad5cb4bf11",
   "metadata": {},
   "outputs": [
    {
     "name": "stdin",
     "output_type": "stream",
     "text": [
      "Enter a number:  11\n"
     ]
    },
    {
     "name": "stdout",
     "output_type": "stream",
     "text": [
      "1\n",
      "3\n",
      "5\n",
      "7\n",
      "9\n",
      "11\n"
     ]
    }
   ],
   "source": [
    "n = int(input(\"Enter a number: \"))\n",
    "for i in range(1, n+1):\n",
    "    if i % 2 != 0:\n",
    "        print(i)\n",
    "        "
   ]
  },
  {
   "cell_type": "markdown",
   "id": "5b04b710-1e95-4776-aaae-8d2d2d0c70b0",
   "metadata": {},
   "source": [
    "### 6. Write a program that prints 'Happy Birthday!' five times on screen."
   ]
  },
  {
   "cell_type": "code",
   "execution_count": 7,
   "id": "0d3e9c70-5c37-4cd0-8151-e2b2070c5ed6",
   "metadata": {},
   "outputs": [
    {
     "name": "stdout",
     "output_type": "stream",
     "text": [
      "Happy Birthday!\n",
      "Happy Birthday!\n",
      "Happy Birthday!\n",
      "Happy Birthday!\n",
      "Happy Birthday!\n"
     ]
    }
   ],
   "source": [
    "for i in range(5):\n",
    "    print(\"Happy Birthday!\")"
   ]
  },
  {
   "cell_type": "markdown",
   "id": "b7f624d9-2c87-4013-843f-eafc346e234a",
   "metadata": {},
   "source": [
    "### 7. Write a program that takes a number n as input from the user and generates the first n terms of the series formed by squaring the natural numbers."
   ]
  },
  {
   "cell_type": "code",
   "execution_count": 11,
   "id": "d7d8dde4-a94d-4535-b648-495b48aa52fb",
   "metadata": {},
   "outputs": [
    {
     "name": "stdin",
     "output_type": "stream",
     "text": [
      "Enter a number:  7\n"
     ]
    },
    {
     "name": "stdout",
     "output_type": "stream",
     "text": [
      "The first 7 terms of the series are:\n",
      "1 4 9 16 25 36 49 "
     ]
    }
   ],
   "source": [
    "n = int(input(\"Enter a number: \"))\n",
    "print(\"The first\", n, \"terms of the series are:\")\n",
    "for i in range(1, n+1):\n",
    "    print(i*i, end=\" \")"
   ]
  },
  {
   "cell_type": "markdown",
   "id": "1c71a42a-ecc4-4f32-9f56-a45d7332c5a3",
   "metadata": {},
   "source": [
    "### 8. Write a program that prompts the user to input a number and prints its multiplication table."
   ]
  },
  {
   "cell_type": "code",
   "execution_count": 12,
   "id": "3d48d1e6-375a-47e2-a5d5-953b705ef696",
   "metadata": {},
   "outputs": [
    {
     "name": "stdin",
     "output_type": "stream",
     "text": [
      "Enter a number:  9\n"
     ]
    },
    {
     "name": "stdout",
     "output_type": "stream",
     "text": [
      "9 x 1 = 9\n",
      "9 x 2 = 18\n",
      "9 x 3 = 27\n",
      "9 x 4 = 36\n",
      "9 x 5 = 45\n",
      "9 x 6 = 54\n",
      "9 x 7 = 63\n",
      "9 x 8 = 72\n",
      "9 x 9 = 81\n",
      "9 x 10 = 90\n"
     ]
    }
   ],
   "source": [
    "n = int(input(\"Enter a number: \"))\n",
    "for i in range(1, 11):\n",
    "    print(n, \"x\", i, \"=\", n*i)"
   ]
  },
  {
   "cell_type": "markdown",
   "id": "a11465d8-85a4-4af1-921e-40ff2705f06c",
   "metadata": {},
   "source": [
    "### 9. Write a Python program to print the first 8 terms of an arithmetic progression starting with 3 and having a common difference of 4."
   ]
  },
  {
   "cell_type": "code",
   "execution_count": 13,
   "id": "67921303-c3e0-4c26-ab22-25c7e2acefef",
   "metadata": {},
   "outputs": [
    {
     "name": "stdout",
     "output_type": "stream",
     "text": [
      "3 7 11 15 19 23 27 31 "
     ]
    }
   ],
   "source": [
    "a = 3\n",
    "d = 4\n",
    "for i in range(8):\n",
    "    print(a + i*d, end=\" \")"
   ]
  },
  {
   "cell_type": "markdown",
   "id": "17241ae3-d793-48ae-8bbb-7f2f014053a2",
   "metadata": {},
   "source": [
    "### 10. Write a Python program to print the first 6 terms of a geometric sequence starting with 2 and having a common ratio of 3."
   ]
  },
  {
   "cell_type": "code",
   "execution_count": 14,
   "id": "4ee25f52-9392-4742-86fa-83014a388a85",
   "metadata": {},
   "outputs": [
    {
     "name": "stdout",
     "output_type": "stream",
     "text": [
      "2 6 18 54 162 486 "
     ]
    }
   ],
   "source": [
    "a = 2\n",
    "r = 3\n",
    "for i in range(6):\n",
    "    print(a * (r**i), end=\" \")"
   ]
  },
  {
   "cell_type": "markdown",
   "id": "b67c0a13-046c-435d-903f-c7a4488da828",
   "metadata": {},
   "source": [
    "### 11. Write a program that asks the user for a positive integer value. The program should calculate the sum of all the integers from 1 up to the number entered. For example, if the user enters 20, the loop will find the sum of 1, 2, 3, 4, … 20."
   ]
  },
  {
   "cell_type": "code",
   "execution_count": 16,
   "id": "47631cf3-9175-4c11-abbd-644fe6b81fed",
   "metadata": {},
   "outputs": [
    {
     "name": "stdin",
     "output_type": "stream",
     "text": [
      "Enter a positive integer:  20\n"
     ]
    },
    {
     "name": "stdout",
     "output_type": "stream",
     "text": [
      "The sum is: 210\n"
     ]
    }
   ],
   "source": [
    "n = int(input(\"Enter a positive integer: \"))\n",
    "sum = 0\n",
    "for i in range(1, n+1):\n",
    "    sum += i\n",
    "print(\"The sum is:\", sum)"
   ]
  },
  {
   "cell_type": "markdown",
   "id": "4dabcbee-ffcb-4a31-81c0-078f742b027e",
   "metadata": {},
   "source": [
    "### 12. Write a program that takes a positive integer N as input and calculates the sum of the reciprocals of all numbers from 1 up to N. The program should display the final sum."
   ]
  },
  {
   "cell_type": "code",
   "execution_count": 21,
   "id": "643b08ff-6f28-49de-9c11-fc00b7592ea9",
   "metadata": {},
   "outputs": [
    {
     "name": "stdin",
     "output_type": "stream",
     "text": [
      "Enter a positive integer:  5\n"
     ]
    },
    {
     "name": "stdout",
     "output_type": "stream",
     "text": [
      "The sum of reciprocals from 1 to 5 is: 2.28\n"
     ]
    }
   ],
   "source": [
    "n = int(input(\"Enter a positive integer: \"))\n",
    "sum = 0\n",
    "for i in range(1, n+1):\n",
    "    sum += 1/i\n",
    "print(\"The sum of reciprocals from 1 to\", n, \"is:\", round(sum, 2))\n"
   ]
  },
  {
   "cell_type": "markdown",
   "id": "e45f1ebe-00e8-487c-9e80-33bfae3f1794",
   "metadata": {},
   "source": [
    "### 13. Write a program that prompts the user to enter a number and repeats this process 5 times. The program should accumulate the numbers entered and then display the final running total."
   ]
  },
  {
   "cell_type": "code",
   "execution_count": 23,
   "id": "c85d9f06-8635-4ad8-96de-3b39d94854ce",
   "metadata": {},
   "outputs": [
    {
     "name": "stdin",
     "output_type": "stream",
     "text": [
      "Enter a number:  5 \n",
      "Enter a number:  10\n",
      "Enter a number:  15\n",
      "Enter a number:  20\n",
      "Enter a number:  25\n"
     ]
    },
    {
     "name": "stdout",
     "output_type": "stream",
     "text": [
      "The final running total is: 75\n"
     ]
    }
   ],
   "source": [
    "total = 0\n",
    "for i in range(5):\n",
    "    num = int(input(\"Enter a number: \"))\n",
    "    total += num\n",
    "print(\"The final running total is:\", total)"
   ]
  },
  {
   "cell_type": "markdown",
   "id": "aebd6f51-8214-4eee-90f3-f6daa25ecb42",
   "metadata": {},
   "source": [
    "### 14. Write a program that prompts the user to enter a positive integer and calculates its factorial.The factorial of a positive integer 'n' is denoted as 'n!' and is calculated by multiplying all the integers from 1 to 'n' together. For example, the factorial of 5 (denoted as 5!) is calculated as 1 × 2 × 3 × 4 × 5.\n",
    "\n",
    "The program should display the factorial value if the input is a positive number, or display a message stating that the factorial does not exist for negative numbers. Additionally, for an input of zero, the program should output that the factorial of 0 is 1."
   ]
  },
  {
   "cell_type": "code",
   "execution_count": 32,
   "id": "1391dc1f-2dbf-4d29-bafd-58549b3753fe",
   "metadata": {},
   "outputs": [
    {
     "name": "stdin",
     "output_type": "stream",
     "text": [
      "Enter a number:  0\n"
     ]
    },
    {
     "name": "stdout",
     "output_type": "stream",
     "text": [
      "The factorial of 0 is 1\n"
     ]
    }
   ],
   "source": [
    "n = int(input(\"Enter a number: \"))\n",
    "if n < 0:\n",
    "    print(\"Factorial does not exist for negative numbers\")\n",
    "elif n == 0:\n",
    "    print(\"The factorial of 0 is 1\")\n",
    "else:\n",
    "    fact = 1\n",
    "    for i in range(1, n+1):\n",
    "        fact *= i\n",
    "    print(\"The factorial of\", n, \"is\", fact)"
   ]
  },
  {
   "cell_type": "markdown",
   "id": "b9ad2358-b0c8-4a69-9d4c-54a0b9077a5a",
   "metadata": {},
   "source": [
    "### 15. Write a Python program that prompts the user to enter a base number and an exponent, and then calculates the power of the base to the exponent. The program should not use the exponentiation operator () or the math.pow() function. The program should handle both positive and negative exponents.**"
   ]
  },
  {
   "cell_type": "code",
   "execution_count": 37,
   "id": "565d11b5-0445-442e-8b67-b269cb3bcae7",
   "metadata": {},
   "outputs": [
    {
     "name": "stdin",
     "output_type": "stream",
     "text": [
      "Enter the base number:  2\n",
      "Enter the exponent:  3\n"
     ]
    },
    {
     "name": "stdout",
     "output_type": "stream",
     "text": [
      "Result is: 8.0\n"
     ]
    }
   ],
   "source": [
    "base = float(input(\"Enter the base number: \"))\n",
    "exponent = int(input(\"Enter the exponent: \"))\n",
    "\n",
    "result = 1\n",
    "\n",
    "if exponent > 0:\n",
    "    for i in range(exponent):\n",
    "        result = result * base\n",
    "elif exponent < 0:\n",
    "    for i in range(-exponent):\n",
    "        result = result * base\n",
    "    result = 1 / result\n",
    "else:\n",
    "    result = 1\n",
    "\n",
    "print(\"Result is:\", result)"
   ]
  },
  {
   "cell_type": "code",
   "execution_count": null,
   "id": "b8d66bc3-6729-4351-8bc1-4586427b7735",
   "metadata": {},
   "outputs": [],
   "source": []
  }
 ],
 "metadata": {
  "kernelspec": {
   "display_name": "Python 3 (ipykernel)",
   "language": "python",
   "name": "python3"
  },
  "language_info": {
   "codemirror_mode": {
    "name": "ipython",
    "version": 3
   },
   "file_extension": ".py",
   "mimetype": "text/x-python",
   "name": "python",
   "nbconvert_exporter": "python",
   "pygments_lexer": "ipython3",
   "version": "3.13.5"
  }
 },
 "nbformat": 4,
 "nbformat_minor": 5
}
