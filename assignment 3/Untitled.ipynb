{
 "cells": [
  {
   "cell_type": "markdown",
   "id": "2bbedaad-ebf4-49f2-82eb-26caa0ccf020",
   "metadata": {},
   "source": [
    "## STRINGS\n"
   ]
  },
  {
   "cell_type": "markdown",
   "id": "be4e7c37-0b0f-46b7-9b40-2c81f8d7eacf",
   "metadata": {},
   "source": [
    "### 1. Write a program that accepts a string from user. Your program should count and display number of vowels in that string."
   ]
  },
  {
   "cell_type": "code",
   "execution_count": 3,
   "id": "ae1a47d8-a76a-4506-9867-f3a917f34445",
   "metadata": {},
   "outputs": [
    {
     "name": "stdin",
     "output_type": "stream",
     "text": [
      "Enter a string:  syedali\n"
     ]
    },
    {
     "name": "stdout",
     "output_type": "stream",
     "text": [
      "Number of vowels: 3\n"
     ]
    }
   ],
   "source": [
    "string = input(\"Enter a string: \")\n",
    "vowels = \"aeiou\"\n",
    "count = 0\n",
    "\n",
    "for char in string:\n",
    "    if char in vowels:\n",
    "        count += 1\n",
    "\n",
    "print(\"Number of vowels:\", count)"
   ]
  },
  {
   "cell_type": "markdown",
   "id": "d93e435b-2f13-40b3-9563-0c368f5a7369",
   "metadata": {},
   "source": [
    "### 2. Write a program that reads a string from keyboard and display:\n",
    "\n",
    "The number of uppercase letters in the string\n",
    "\n",
    "The number of lowercase letters in the string\n",
    "\n",
    "The number of digits in the string\n",
    "\n",
    "The number of whitespace characters in the string"
   ]
  },
  {
   "cell_type": "code",
   "execution_count": 5,
   "id": "43c879af-f07e-4b9b-ac49-ab126b5879a5",
   "metadata": {},
   "outputs": [
    {
     "name": "stdin",
     "output_type": "stream",
     "text": [
      "Enter a string:  Syed ali01\n"
     ]
    },
    {
     "name": "stdout",
     "output_type": "stream",
     "text": [
      "Uppercase letters: 1\n",
      "Lowercase letters: 6\n",
      "Digits: 2\n",
      "Whitespace characters: 1\n"
     ]
    }
   ],
   "source": [
    "string = input(\"Enter a string: \")\n",
    "\n",
    "uppercase = 0\n",
    "lowercase = 0\n",
    "digits = 0\n",
    "whitespace = 0\n",
    "\n",
    "for char in string:\n",
    "    if char.isupper():\n",
    "        uppercase += 1\n",
    "    elif char.islower():\n",
    "        lowercase += 1\n",
    "    elif char.isdigit():\n",
    "        digits += 1\n",
    "    elif char.isspace():\n",
    "        whitespace += 1\n",
    "\n",
    "print(\"Uppercase letters:\", uppercase)\n",
    "print(\"Lowercase letters:\", lowercase)\n",
    "print(\"Digits:\", digits)\n",
    "print(\"Whitespace characters:\", whitespace)\n"
   ]
  },
  {
   "cell_type": "markdown",
   "id": "1ad853f7-9476-4c02-9302-c367c228d4de",
   "metadata": {},
   "source": [
    "### 3. Write a Python program that accepts a string from user. Your program should create and display a new string where the first and last characters have been exchanged.\n",
    "For example if the user enters the string 'HELLO' then new string would be 'OELLH'"
   ]
  },
  {
   "cell_type": "code",
   "execution_count": 8,
   "id": "44b093dd-a467-4e72-80b2-95082950a9ba",
   "metadata": {},
   "outputs": [
    {
     "name": "stdin",
     "output_type": "stream",
     "text": [
      "Enter a string:  hello\n"
     ]
    },
    {
     "name": "stdout",
     "output_type": "stream",
     "text": [
      "New string: oellh\n"
     ]
    }
   ],
   "source": [
    "string = input(\"Enter a string: \")\n",
    "\n",
    "if len(string) < 2:\n",
    "    new_string = string\n",
    "else:\n",
    "    new_string = string[-1] + string[1:-1] + string[0]\n",
    "\n",
    "print(\"New string:\", new_string)"
   ]
  },
  {
   "cell_type": "markdown",
   "id": "26a78ff3-2a91-4607-8ce3-e659583c1160",
   "metadata": {},
   "source": [
    "### 4. Write a Python program that accepts a string from user. Your program should create a new string in reverse of first string and display it.For example if the user enters the string 'EXAM' then new string would be 'MAXE'"
   ]
  },
  {
   "cell_type": "code",
   "execution_count": 9,
   "id": "e6c64d66-08b3-4534-bedf-c93b3109d369",
   "metadata": {},
   "outputs": [
    {
     "name": "stdin",
     "output_type": "stream",
     "text": [
      "Enter a string:  exam\n"
     ]
    },
    {
     "name": "stdout",
     "output_type": "stream",
     "text": [
      "New string: maxe\n"
     ]
    }
   ],
   "source": [
    "string = input(\"Enter a string: \")\n",
    "reversed_string = string[::-1]\n",
    "print(\"New string:\", reversed_string)"
   ]
  },
  {
   "cell_type": "markdown",
   "id": "7e83a557-b92a-4900-b30b-4144059b142a",
   "metadata": {},
   "source": [
    "### 5. Write a Python program that accepts a string from user. Your program should create a new string by shifting one position to left.\n",
    "For example if the user enters the string 'examination 2021' then new string would be 'xamination 2021e'"
   ]
  },
  {
   "cell_type": "code",
   "execution_count": 10,
   "id": "aa6afcd3-39bd-495e-8398-66fb3ca9cfa0",
   "metadata": {},
   "outputs": [
    {
     "name": "stdin",
     "output_type": "stream",
     "text": [
      "Enter a string:  examination 2025\n"
     ]
    },
    {
     "name": "stdout",
     "output_type": "stream",
     "text": [
      "New string: xamination 2025e\n"
     ]
    }
   ],
   "source": [
    "string = input(\"Enter a string: \")\n",
    "\n",
    "if len(string) < 1:\n",
    "    new_string = string\n",
    "else:\n",
    "    new_string = string[1:] + string[0]\n",
    "\n",
    "print(\"New string:\", new_string)"
   ]
  },
  {
   "cell_type": "markdown",
   "id": "81d1296f-0525-4490-809b-ff1e9d2ea875",
   "metadata": {},
   "source": [
    "### 6. Write a program that asks the user to input his name and print its initials. Assuming that the user always types first name, middle name and last name and does not include any unnecessary spaces.\n",
    "\n",
    "For example, if the user enters Ajay Kumar Garg the program should display A. K. G.\n",
    "Note: Don't use split() method"
   ]
  },
  {
   "cell_type": "code",
   "execution_count": 12,
   "id": "6460542f-9e90-4d99-af89-5c97534c28f5",
   "metadata": {},
   "outputs": [
    {
     "name": "stdin",
     "output_type": "stream",
     "text": [
      "Enter your full name   syed abdul moiz\n"
     ]
    },
    {
     "name": "stdout",
     "output_type": "stream",
     "text": [
      "Initials: S. A. M.\n"
     ]
    }
   ],
   "source": [
    "name = input(\"Enter your full name  \")\n",
    "\n",
    "initials = \"\"\n",
    "count = 0\n",
    "\n",
    "for i in range(len(name)):\n",
    "    if i == 0:\n",
    "        initials += name[i].upper() + \". \"\n",
    "        count += 1\n",
    "    elif name[i] == \" \":\n",
    "        initials += name[i + 1].upper() + \". \"\n",
    "        count += 1\n",
    "        if count == 3:\n",
    "            break\n",
    "\n",
    "print(\"Initials:\", initials.strip())"
   ]
  },
  {
   "cell_type": "markdown",
   "id": "c617a5ff-f4f2-4b5c-b58c-fcbf7eed4cb4",
   "metadata": {},
   "source": [
    "### 7. A palindrome is a string that reads the same backward as forward. For example, the words dad, madam and radar are all palindromes. Write a programs that determines whether the string is a palindrome.\n",
    "\n",
    "Note: do not use reverse() method"
   ]
  },
  {
   "cell_type": "code",
   "execution_count": 17,
   "id": "45a8e23a-3e33-44e5-b985-beb2739c1443",
   "metadata": {},
   "outputs": [
    {
     "name": "stdin",
     "output_type": "stream",
     "text": [
      "Enter a string:  s\n"
     ]
    },
    {
     "name": "stdout",
     "output_type": "stream",
     "text": [
      "The string is a palindrome.\n"
     ]
    }
   ],
   "source": [
    "string = input(\"Enter a string: \")\n",
    "is_palindrome = True\n",
    "\n",
    "for i in range(len(string) // 2):\n",
    "    if string[i] != string[len(string) - 1 - i]:\n",
    "        is_palindrome = False\n",
    "        break\n",
    "\n",
    "if is_palindrome:\n",
    "    print(\"The string is a palindrome.\")\n",
    "else:\n",
    "    print(\"The string is not a palindrome.\")"
   ]
  },
  {
   "cell_type": "markdown",
   "id": "50766f2d-5405-4c16-8665-966ac5817336",
   "metadata": {},
   "source": [
    "### 8. Write a program that display following output:\n",
    "SHIFT  \n",
    "HIFTS  \n",
    "IFTSH  \n",
    "FTSHI  \n",
    "TSHIF  \n",
    "SHIFT  "
   ]
  },
  {
   "cell_type": "code",
   "execution_count": 32,
   "id": "32119967-6ae4-4d35-89b4-85b26b9cb193",
   "metadata": {},
   "outputs": [
    {
     "name": "stdout",
     "output_type": "stream",
     "text": [
      "SHIFT\n",
      "HIFTS\n",
      "IFTSH\n",
      "FTSHI\n",
      "TSHIF\n"
     ]
    }
   ],
   "source": [
    "word = \"SHIFT\"\n",
    "\n",
    "for i in range(len(word)):\n",
    "    rotated = word[i:] + word[:i]\n",
    "    print(rotated)"
   ]
  },
  {
   "cell_type": "markdown",
   "id": "ad749e52-804d-4ea6-b077-20d96eba9a0e",
   "metadata": {},
   "source": [
    "### 9. Write a program in python that accepts a string to setup a passwords. Your entered password must meet the following requirements:\n",
    "\n",
    "The password must be at least eight characters long.\n",
    "\n",
    "It must contain at least one uppercase letter.\n",
    "\n",
    "It must contain at least one lowercase letter.\n",
    "\n",
    "It must contain at least one numeric digit.\n",
    "\n",
    "Your program should should perform this validation."
   ]
  },
  {
   "cell_type": "code",
   "execution_count": 33,
   "id": "08bdede4-dc48-4b36-af2a-0dfa4253eaa3",
   "metadata": {},
   "outputs": [
    {
     "name": "stdin",
     "output_type": "stream",
     "text": [
      "Enter your password:  Abdulmoiz321\n"
     ]
    },
    {
     "name": "stdout",
     "output_type": "stream",
     "text": [
      "Password is valid.\n"
     ]
    }
   ],
   "source": [
    "password = input(\"Enter your password: \")\n",
    "\n",
    "has_upper = False\n",
    "has_lower = False\n",
    "has_digit = False\n",
    "\n",
    "if len(password) >= 8:\n",
    "    for char in password:\n",
    "        if char.isupper():\n",
    "            has_upper = True\n",
    "        elif char.islower():\n",
    "            has_lower = True\n",
    "        elif char.isdigit():\n",
    "            has_digit = True\n",
    "\n",
    "    if has_upper and has_lower and has_digit:\n",
    "        print(\"Password is valid.\")\n",
    "    else:\n",
    "        print(\"Password is invalid. It must contain at least one uppercase letter, one lowercase letter, and one digit.\")\n",
    "else:\n",
    "    print(\"Password is invalid. It must be at least 8 characters long.\")"
   ]
  },
  {
   "cell_type": "code",
   "execution_count": null,
   "id": "c1973b72-73a0-4e66-945b-09697fa280a4",
   "metadata": {},
   "outputs": [],
   "source": []
  }
 ],
 "metadata": {
  "kernelspec": {
   "display_name": "Python 3 (ipykernel)",
   "language": "python",
   "name": "python3"
  },
  "language_info": {
   "codemirror_mode": {
    "name": "ipython",
    "version": 3
   },
   "file_extension": ".py",
   "mimetype": "text/x-python",
   "name": "python",
   "nbconvert_exporter": "python",
   "pygments_lexer": "ipython3",
   "version": "3.13.5"
  }
 },
 "nbformat": 4,
 "nbformat_minor": 5
}
