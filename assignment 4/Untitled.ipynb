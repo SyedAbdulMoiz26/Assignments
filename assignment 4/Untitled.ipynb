{
 "cells": [
  {
   "cell_type": "markdown",
   "id": "b7a76716-ab3a-4839-b0d6-9911cc55ada9",
   "metadata": {},
   "source": [
    "###  LISTS"
   ]
  },
  {
   "cell_type": "markdown",
   "id": "7bad4361-1c8b-4d4c-b4fc-6729a3dfd963",
   "metadata": {},
   "source": [
    "### 1. Write a program that accepts a list from user and print the alternate element of list."
   ]
  },
  {
   "cell_type": "code",
   "execution_count": 2,
   "id": "23ab0195-6ec2-4ca2-b4d2-c617fbbc1288",
   "metadata": {},
   "outputs": [
    {
     "name": "stdin",
     "output_type": "stream",
     "text": [
      "Enter list elements :  my name is\n"
     ]
    },
    {
     "name": "stdout",
     "output_type": "stream",
     "text": [
      "Alternate elements are: ['my', 'is']\n"
     ]
    }
   ],
   "source": [
    "lst = input(\"Enter list elements : \").split()\n",
    "print(\"Alternate elements are:\", lst[::2])"
   ]
  },
  {
   "cell_type": "markdown",
   "id": "9bebebb7-31db-4f5c-933b-6c1253c53bae",
   "metadata": {},
   "source": [
    "### 2. Write a program that accepts a list from user. Your program should reverse the content of list and display it. Do not use reverse() method."
   ]
  },
  {
   "cell_type": "code",
   "execution_count": 5,
   "id": "10eaf080-41b1-4fb2-b7f8-f28b91c2d2c3",
   "metadata": {},
   "outputs": [
    {
     "name": "stdin",
     "output_type": "stream",
     "text": [
      "Enter list elements separated by space:  Abdulmoiz 20 60kg male\n"
     ]
    },
    {
     "name": "stdout",
     "output_type": "stream",
     "text": [
      "Reversed list is: ['male', '60kg', '20', 'Abdulmoiz']\n"
     ]
    }
   ],
   "source": [
    "lst = input(\"Enter list elements : \").split()\n",
    "print(\"Reversed list is:\", lst[::-1])"
   ]
  },
  {
   "cell_type": "markdown",
   "id": "75c28407-a4e6-4d27-8f97-da9163b99290",
   "metadata": {},
   "source": [
    "### 3. Find and display the largest number of a list without using built-in function max(). Your program should ask the user to input values in list from keyboard.\n"
   ]
  },
  {
   "cell_type": "code",
   "execution_count": 7,
   "id": "fb77e538-be05-4e92-a58c-5668cb1cd11c",
   "metadata": {},
   "outputs": [
    {
     "name": "stdin",
     "output_type": "stream",
     "text": [
      "Enter numbers :  20 81 2001 401119 201114\n"
     ]
    },
    {
     "name": "stdout",
     "output_type": "stream",
     "text": [
      "The largest number is: 401119\n"
     ]
    }
   ],
   "source": [
    "numbers = input(\"Enter numbers : \")\n",
    "\n",
    "number_list = numbers.split()\n",
    "\n",
    "for i in range(len(number_list)):\n",
    "    number_list[i] = int(number_list[i])\n",
    "\n",
    "largest = number_list[0]\n",
    "\n",
    "for number in number_list:\n",
    "    if number > largest:\n",
    "        largest = number\n",
    "\n",
    "print(\"The largest number is:\", largest)"
   ]
  },
  {
   "cell_type": "markdown",
   "id": "0578e2b0-0da7-46af-b32e-8fcdcc1114ac",
   "metadata": {},
   "source": [
    "###  4. Write a program that rotates the element of a list so that the element at the first index moves to the second index, the element in the second index moves to the third index, etc., and the element in the last index moves to the first index."
   ]
  },
  {
   "cell_type": "code",
   "execution_count": 8,
   "id": "28be7b50-2b8e-43f6-a8f2-ef76f25c31ad",
   "metadata": {},
   "outputs": [
    {
     "name": "stdin",
     "output_type": "stream",
     "text": [
      "Enter list elements :  20 name weight\n"
     ]
    },
    {
     "name": "stdout",
     "output_type": "stream",
     "text": [
      "Rotated list is: ['weight', '20', 'name']\n"
     ]
    }
   ],
   "source": [
    "lst = input(\"Enter list elements : \").split()\n",
    "rotated = [lst[-1]] + lst[:-1]\n",
    "print(\"Rotated list is:\", rotated)"
   ]
  },
  {
   "cell_type": "markdown",
   "id": "b1507a93-08ed-4ad4-8cf4-05922330329f",
   "metadata": {},
   "source": [
    "### 5. Write a program that input a string and ask user to delete a given word from a string."
   ]
  },
  {
   "cell_type": "code",
   "execution_count": 10,
   "id": "ae64351a-2b7b-4496-b99c-2f9ce87a445b",
   "metadata": {},
   "outputs": [
    {
     "name": "stdin",
     "output_type": "stream",
     "text": [
      "Enter a string:  my name is syedali\n",
      "Enter word to delete:  is\n"
     ]
    },
    {
     "name": "stdout",
     "output_type": "stream",
     "text": [
      "Updated string: my name syedali\n"
     ]
    }
   ],
   "source": [
    "string = input(\"Enter a string: \")\n",
    "word_to_delete = input(\"Enter word to delete: \")\n",
    "new_string = \" \".join([word for word in string.split() if word != word_to_delete])\n",
    "print(\"Updated string:\", new_string)"
   ]
  },
  {
   "cell_type": "markdown",
   "id": "18c11ed6-b1b0-406a-8d3f-8058f4498762",
   "metadata": {},
   "source": [
    "### 6. Write a program that reads a string from the user containing a date in the form mm/dd/yyyy. It should print the date in the form March 12, 2021."
   ]
  },
  {
   "cell_type": "code",
   "execution_count": 12,
   "id": "77912bcf-f5e3-4d52-802d-709bc4cc3d93",
   "metadata": {},
   "outputs": [
    {
     "name": "stdin",
     "output_type": "stream",
     "text": [
      "Enter date in mm/dd/yyyy format:  8/23/2025\n"
     ]
    },
    {
     "name": "stdout",
     "output_type": "stream",
     "text": [
      "Formatted date: August 23, 2025\n"
     ]
    }
   ],
   "source": [
    "import datetime\n",
    "\n",
    "date_str = input(\"Enter date in mm/dd/yyyy format: \")\n",
    "date_obj = datetime.datetime.strptime(date_str, \"%m/%d/%Y\")\n",
    "print(\"Formatted date:\", date_obj.strftime(\"%B %d, %Y\"))"
   ]
  },
  {
   "cell_type": "markdown",
   "id": "158849aa-9562-4e9f-8919-e51c1586461f",
   "metadata": {},
   "source": [
    "### 7. Write a program with a function that accepts a string from keyboard and create a new string after converting character of each word capitalized. For instance, if the sentence is \"stop and smell the roses.\" the output should be \"Stop And Smell The Roses\""
   ]
  },
  {
   "cell_type": "code",
   "execution_count": 17,
   "id": "2a575c07-a7ae-4237-a02f-4cc3d906a1b8",
   "metadata": {},
   "outputs": [
    {
     "name": "stdin",
     "output_type": "stream",
     "text": [
      "Enter a sentence:  hope you are doing well\n"
     ]
    },
    {
     "name": "stdout",
     "output_type": "stream",
     "text": [
      "Capitalized sentence: Hope You Are Doing Well\n"
     ]
    }
   ],
   "source": [
    "def capitalize_words(s):\n",
    "    return s.title()\n",
    "\n",
    "sentence = input(\"Enter a sentence: \")\n",
    "print(\"Capitalized sentence:\", capitalize_words(sentence))"
   ]
  },
  {
   "cell_type": "markdown",
   "id": "15ba9dff-b9c8-477a-a850-19a360185b9e",
   "metadata": {},
   "source": [
    "### 8. Find the sum of each row of matrix of size m x n. For example for the following matrix output will be like this :\n",
    "2  11  7  12 \n",
    "\n",
    "5  2   9  15\n",
    "\n",
    "8  3  10  42"
   ]
  },
  {
   "cell_type": "code",
   "execution_count": 19,
   "id": "1a5c580c-7d71-4ec7-b180-9fa4e2c73797",
   "metadata": {},
   "outputs": [
    {
     "name": "stdin",
     "output_type": "stream",
     "text": [
      "Enter number of rows:  3\n",
      "Enter number of columns:  3\n",
      "Enter elements for row 1:  11 7 24 \n",
      "Enter elements for row 2:  6 17 3\n",
      "Enter elements for row 3:  22 8 13\n"
     ]
    },
    {
     "name": "stdout",
     "output_type": "stream",
     "text": [
      "Sum of row 1 = 42\n",
      "Sum of row 2 = 26\n",
      "Sum of row 3 = 43\n"
     ]
    }
   ],
   "source": [
    "matrix = []\n",
    "rows = int(input(\"Enter number of rows: \"))\n",
    "cols = int(input(\"Enter number of columns: \"))\n",
    "\n",
    "for i in range(rows):\n",
    "    row = list(map(int, input(f\"Enter elements for row {i+1}: \").split()))\n",
    "    matrix.append(row)\n",
    "\n",
    "for i, row in enumerate(matrix):\n",
    "    print(f\"Sum of row {i+1} = {sum(row)}\")\n"
   ]
  },
  {
   "cell_type": "markdown",
   "id": "da177c23-0c3c-40f9-a211-9c04584e57e9",
   "metadata": {},
   "source": [
    "### 9. Write a program to add two matrices of size n x m."
   ]
  },
  {
   "cell_type": "code",
   "execution_count": 1,
   "id": "92e0f1a9-587b-4523-90d2-27be5c20e383",
   "metadata": {},
   "outputs": [
    {
     "name": "stdin",
     "output_type": "stream",
     "text": [
      "Enter number of rows:  2\n",
      "Enter number of columns:  2\n"
     ]
    },
    {
     "name": "stdout",
     "output_type": "stream",
     "text": [
      "Enter elements of first matrix:\n"
     ]
    },
    {
     "name": "stdin",
     "output_type": "stream",
     "text": [
      " 20 12\n",
      " 42 18\n"
     ]
    },
    {
     "name": "stdout",
     "output_type": "stream",
     "text": [
      "Enter elements of second matrix:\n"
     ]
    },
    {
     "name": "stdin",
     "output_type": "stream",
     "text": [
      " 101 9\n",
      " 12 22\n"
     ]
    },
    {
     "name": "stdout",
     "output_type": "stream",
     "text": [
      "Sum of matrices:\n",
      "121 21\n",
      "54 40\n"
     ]
    }
   ],
   "source": [
    "rows = int(input(\"Enter number of rows: \"))\n",
    "cols = int(input(\"Enter number of columns: \"))\n",
    "\n",
    "print(\"Enter elements of first matrix:\")\n",
    "matrix1 = [list(map(int, input().split())) for _ in range(rows)]\n",
    "\n",
    "print(\"Enter elements of second matrix:\")\n",
    "matrix2 = [list(map(int, input().split())) for _ in range(rows)]\n",
    "\n",
    "result = []\n",
    "for i in range(rows):\n",
    "    row = [matrix1[i][j] + matrix2[i][j] for j in range(cols)]\n",
    "    result.append(row)\n",
    "\n",
    "print(\"Sum of matrices:\")\n",
    "for row in result:\n",
    "    print(*row)\n"
   ]
  },
  {
   "cell_type": "markdown",
   "id": "f63c3be8-ee01-413b-9dce-044f2b8e49a5",
   "metadata": {},
   "source": [
    "### 10. Write a program to multiply two matrices"
   ]
  },
  {
   "cell_type": "code",
   "execution_count": 3,
   "id": "906c5a23-e291-42ad-b0f4-6f7668865f85",
   "metadata": {},
   "outputs": [
    {
     "name": "stdin",
     "output_type": "stream",
     "text": [
      "Enter rows of first matrix:  2\n",
      "Enter columns of first matrix:  2\n",
      "Enter rows of second matrix:  2\n",
      "Enter columns of second matrix:  2\n"
     ]
    },
    {
     "name": "stdout",
     "output_type": "stream",
     "text": [
      "Enter first matrix:\n"
     ]
    },
    {
     "name": "stdin",
     "output_type": "stream",
     "text": [
      " 11 3 \n",
      " 7 13\n"
     ]
    },
    {
     "name": "stdout",
     "output_type": "stream",
     "text": [
      "Enter second matrix:\n"
     ]
    },
    {
     "name": "stdin",
     "output_type": "stream",
     "text": [
      " 21 6\n",
      " 3 29\n"
     ]
    },
    {
     "name": "stdout",
     "output_type": "stream",
     "text": [
      "Product of matrices:\n",
      "240 153\n",
      "186 419\n"
     ]
    }
   ],
   "source": [
    "rows1 = int(input(\"Enter rows of first matrix: \"))\n",
    "cols1 = int(input(\"Enter columns of first matrix: \"))\n",
    "rows2 = int(input(\"Enter rows of second matrix: \"))\n",
    "cols2 = int(input(\"Enter columns of second matrix: \"))\n",
    "\n",
    "if cols1 != rows2:\n",
    "    print(\"Matrix multiplication not possible.\")\n",
    "else:\n",
    "    print(\"Enter first matrix:\")\n",
    "    A = [list(map(int, input().split())) for _ in range(rows1)]\n",
    "    \n",
    "    print(\"Enter second matrix:\")\n",
    "    B = [list(map(int, input().split())) for _ in range(rows2)]\n",
    "    \n",
    "    result = [[0]*cols2 for _ in range(rows1)]\n",
    "\n",
    "    for i in range(rows1):\n",
    "        for j in range(cols2):\n",
    "            for k in range(cols1):\n",
    "                result[i][j] += A[i][k] * B[k][j]\n",
    "\n",
    "    print(\"Product of matrices:\")\n",
    "    for row in result:\n",
    "        print(*row)"
   ]
  },
  {
   "cell_type": "code",
   "execution_count": null,
   "id": "1b4c3b0a-ed27-4a0c-ab9d-c443fcfc99d3",
   "metadata": {},
   "outputs": [],
   "source": []
  }
 ],
 "metadata": {
  "kernelspec": {
   "display_name": "Python 3 (ipykernel)",
   "language": "python",
   "name": "python3"
  },
  "language_info": {
   "codemirror_mode": {
    "name": "ipython",
    "version": 3
   },
   "file_extension": ".py",
   "mimetype": "text/x-python",
   "name": "python",
   "nbconvert_exporter": "python",
   "pygments_lexer": "ipython3",
   "version": "3.13.5"
  }
 },
 "nbformat": 4,
 "nbformat_minor": 5
}
